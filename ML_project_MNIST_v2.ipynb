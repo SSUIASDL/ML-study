{
 "cells": [
  {
   "cell_type": "code",
   "execution_count": null,
   "metadata": {},
   "outputs": [],
   "source": []
  },
  {
   "cell_type": "markdown",
   "metadata": {},
   "source": [
    "MNIST project\n",
    "=================\n",
    "## __0. Data preprecessing__\n",
    "* train_test_split를 이용한 train, test data 구성\n",
    "* Test data와 Train data 비율 3:7\n"
   ]
  },
  {
   "cell_type": "code",
   "execution_count": 2,
   "metadata": {},
   "outputs": [
    {
     "name": "stdout",
     "output_type": "stream",
     "text": [
      "(70000, 784)\n"
     ]
    }
   ],
   "source": [
    "from sklearn.datasets import fetch_openml\n",
    "from sklearn.model_selection import train_test_split\n",
    "MNIST= fetch_openml('mnist_784', version=1, as_frame=False)\n",
    "x=MNIST.data\n",
    "print(x.shape)\n",
    "y=MNIST.target\n",
    "x_train,x_test,y_train,y_test=train_test_split(x,y,test_size=0.1,shuffle='False')"
   ]
  },
  {
   "cell_type": "markdown",
   "metadata": {},
   "source": [
    "## __1. supervised learning__\n",
    ">   보편적 Multiclassification 분류기 적용, 앙상블을 통한 개별모델의 통합 및 효율화, 하이퍼파라메터 튜닝에 대한 기본 개념 및 API 학습\n",
    ">   ## 1.1 Multiclassification\n",
    ">   * 보편적인 3종의 다중분류기 (Regression, SVM, Dicision tree) 를 이용 및 정확도 분석 수행\n",
    ">   \n",
    ">   ### 1.1.1 Regression\n",
    ">   * 개념 :\n",
    "\n",
    ">   #### __1) Linear Regression__"
   ]
  },
  {
   "cell_type": "code",
   "execution_count": 25,
   "metadata": {},
   "outputs": [
    {
     "name": "stdout",
     "output_type": "stream",
     "text": [
      "The r2 score(train) is  0.3823097688273094\n",
      "The r2 score(test) is  -4.726941154897801e-05\n",
      "['Linear regression', -4.726941154897801e-05]\n"
     ]
    }
   ],
   "source": [
    "from sklearn.linear_model import LinearRegression\n",
    "import sklearn.metrics as metrics\n",
    "LR=LinearRegression()\n",
    "LR.fit(x_train,y_train)\n",
    "y_pre=LR.predict(x_train)\n",
    "y_pre_test=LR.predict(x_test)\n",
    "\n",
    "score_train=metrics.r2_score(y_pre,y_train)\n",
    "score_test=metrics.r2_score(y_pre_test,y_test)\n",
    "\n",
    "print('The r2 score(train) is ',score_train)\n",
    "print('The r2 score(test) is ',score_test)\n",
    "\n",
    "r2score=([\"Linear regression\",score_test])\n",
    "print(r2score)"
   ]
  },
  {
   "cell_type": "markdown",
   "metadata": {},
   "source": [
    ">   #### __2) Lasso Regression__"
   ]
  },
  {
   "cell_type": "code",
   "execution_count": 41,
   "metadata": {},
   "outputs": [
    {
     "name": "stdout",
     "output_type": "stream",
     "text": [
      "The r2 score(train) is  0.3087809136367944\n",
      "The r2 score(test) is  0.3050446404257243\n",
      "['Linear regression' '-4.726941154897801e-05' 'Lasso'\n",
      " '0.34459369551893004' 'Lasso' '0.30890081528355906' 'Lasso'\n",
      " '0.30890081528355906' 'Lasso' '0.3050446404257243']\n"
     ]
    }
   ],
   "source": [
    "import numpy as np\n",
    "from sklearn.linear_model import Lasso\n",
    "\n",
    "Lass=Lasso(alpha=0.9)\n",
    "Lass.fit(x_train,y_train)\n",
    "y_pre_train=Lass.predict(x_train)\n",
    "score_train=metrics.r2_score(y_pre_train,y_train)\n",
    "y_pre_test=Lass.predict(x_test)\n",
    "score_test=metrics.r2_score(y_pre_test,y_test)\n",
    "\n",
    "print('The r2 score(train) is ',score_train)\n",
    "print('The r2 score(test) is ',score_test)\n",
    "r2score=np.append(r2score,np.array([\"Lasso\",score_test]))\n",
    "print(r2score)"
   ]
  },
  {
   "cell_type": "markdown",
   "metadata": {},
   "source": [
    ">   #### __3) Logistic Regression__"
   ]
  },
  {
   "cell_type": "code",
   "execution_count": 39,
   "metadata": {},
   "outputs": [
    {
     "name": "stdout",
     "output_type": "stream",
     "text": [
      "Accuracy(train) is  0.9342857142857143\n",
      "Accuracy(test) is  0.9161428571428571\n"
     ]
    },
    {
     "name": "stderr",
     "output_type": "stream",
     "text": [
      "c:\\Users\\poker\\anaconda3\\lib\\site-packages\\sklearn\\linear_model\\_logistic.py:814: ConvergenceWarning: lbfgs failed to converge (status=1):\n",
      "STOP: TOTAL NO. of ITERATIONS REACHED LIMIT.\n",
      "\n",
      "Increase the number of iterations (max_iter) or scale the data as shown in:\n",
      "    https://scikit-learn.org/stable/modules/preprocessing.html\n",
      "Please also refer to the documentation for alternative solver options:\n",
      "    https://scikit-learn.org/stable/modules/linear_model.html#logistic-regression\n",
      "  n_iter_i = _check_optimize_result(\n"
     ]
    }
   ],
   "source": [
    "from sklearn.linear_model import LogisticRegression\n",
    "\n",
    "log = LogisticRegression(solver='lbfgs',random_state=42)\n",
    "log.fit(x_train,y_train)\n",
    "y_pre_train=log.predict(x_train)\n",
    "y_pre_test=log.predict(x_test)\n",
    "\n",
    "score_train=metrics.accuracy_score(y_pre_train,y_train)\n",
    "score_test=metrics.accuracy_score(y_test,y_pre_test)\n",
    "\n",
    "print('Accuracy(train) is ',score_train)\n",
    "print('Accuracy(test) is ',score_test)\n"
   ]
  },
  {
   "cell_type": "code",
   "execution_count": null,
   "metadata": {
    "vscode": {
     "languageId": "markdown"
    }
   },
   "outputs": [],
   "source": [
    "# parameter study\n",
    "print('Iteration for training is',log.max_iter)\n",
    "print('Comparsion study')\n",
    "\n",
    "for iter in [100, 1000, 2000]:\n",
    "    log=LogisticRegression(solver='lbfgs',max_iter=iter,random_state=42)\n",
    "    log.fit(x_train,y_train)\n",
    "    pred_test=log.predict(x_test)\n",
    "    print('Accuracy in iterate',iter,'is',metrics.accuracy_score(y_test,pred_test))\n"
   ]
  },
  {
   "cell_type": "markdown",
   "metadata": {},
   "source": [
    "* Interation 이 증가하더라도 뚜렷한 정확도 상승 기대는 어려움\n",
    "    - iter 100 : 91.63%\n",
    "    - iter 1000 : 91.43%\n",
    "    - iter 2000 : 91.212%\n",
    "    \n",
    "    \n",
    "* Itertation 이 1000 넘어가더라도 정확도가 91% 이상을 넘기 어려움"
   ]
  },
  {
   "cell_type": "code",
   "execution_count": null,
   "metadata": {},
   "outputs": [],
   "source": [
    "log=LogisticRegression(solver='lbfgs',max_iter=50,random_state=42)\n",
    "log.fit(x_train,y_train)\n",
    "pred_test=log.predict(x_test)\n",
    "print('Accuracy in iterate',iter,'is',metrics.accuracy_score(y_test,pred_test))\n"
   ]
  },
  {
   "cell_type": "markdown",
   "metadata": {},
   "source": [
    "* iter=50 일때 정확도 91.65 iter =100 보다 높음"
   ]
  },
  {
   "cell_type": "markdown",
   "metadata": {},
   "source": [
    ">   ### 1.1.2 SVM\n",
    ">   * Reference : https://liveyourit.tistory.com/62"
   ]
  },
  {
   "cell_type": "code",
   "execution_count": 3,
   "metadata": {},
   "outputs": [
    {
     "data": {
      "text/plain": [
       "SVC(random_state=42)"
      ]
     },
     "execution_count": 3,
     "metadata": {},
     "output_type": "execute_result"
    }
   ],
   "source": [
    "from sklearn.svm import SVC\n",
    "from sklearn.preprocessing import StandardScaler\n",
    "sc=StandardScaler()\n",
    "sc.fit(x_train)\n",
    "x_train_std = sc.transform(x_train)\n",
    "x_test_std= sc.transform(x_test)\n",
    "svm=SVC(gamma='scale',random_state=42)\n",
    "svm.fit(x_train_std, y_train)"
   ]
  },
  {
   "cell_type": "code",
   "execution_count": 9,
   "metadata": {},
   "outputs": [
    {
     "data": {
      "text/plain": [
       "['svm_0830_MNIST.pkl']"
      ]
     },
     "execution_count": 9,
     "metadata": {},
     "output_type": "execute_result"
    }
   ],
   "source": [
    "import pickle\n",
    "import joblib\n",
    "joblib.dump(svm,\"svm_0830_MNIST.pkl\")"
   ]
  },
  {
   "cell_type": "code",
   "execution_count": null,
   "metadata": {},
   "outputs": [],
   "source": [
    "SVM_pre=svm.predict(x_train_std)"
   ]
  },
  {
   "cell_type": "code",
   "execution_count": 52,
   "metadata": {},
   "outputs": [
    {
     "name": "stdout",
     "output_type": "stream",
     "text": [
      "accuracy_score is 0.9863650793650793\n"
     ]
    }
   ],
   "source": [
    "print('accuracy_score is',metrics.accuracy_score(SVM_pre,y_train))"
   ]
  },
  {
   "cell_type": "markdown",
   "metadata": {},
   "source": [
    "> * Model regeneration with PCA"
   ]
  },
  {
   "cell_type": "code",
   "execution_count": 13,
   "metadata": {},
   "outputs": [
    {
     "data": {
      "text/plain": [
       "SVC(random_state=42)"
      ]
     },
     "execution_count": 13,
     "metadata": {},
     "output_type": "execute_result"
    }
   ],
   "source": [
    "from os import times\n",
    "from threading import Timer\n",
    "\n",
    "\n",
    "Timer\n",
    "from sklearn.decomposition import PCA\n",
    "pca = PCA(n_components=2)\n",
    "x_train_PC=pca.fit_transform(x_train_std)\n",
    "x_test_PC=pca.fit_transform(x_test_std)\n",
    "\n",
    "svm_PC=SVC(gamma='scale',random_state=42)\n",
    "svm_PC.fit(x_train_PC, y_train)\n"
   ]
  },
  {
   "cell_type": "code",
   "execution_count": 14,
   "metadata": {},
   "outputs": [
    {
     "data": {
      "text/plain": [
       "['svm_0830_MNIST_PC.pkl']"
      ]
     },
     "execution_count": 14,
     "metadata": {},
     "output_type": "execute_result"
    }
   ],
   "source": [
    "joblib.dump(svm,\"svm_0830_MNIST_PC.pkl\")"
   ]
  },
  {
   "cell_type": "markdown",
   "metadata": {},
   "source": [
    ">   >###  Standargation\n"
   ]
  },
  {
   "cell_type": "markdown",
   "metadata": {},
   "source": [
    ">   ### 1.1.3 Decision tree\n"
   ]
  },
  {
   "cell_type": "markdown",
   "metadata": {},
   "source": [
    ">   > ### Random forest\n",
    ">   ## 1.2 Dimension Reduction\n",
    ">   ## 1.3 Hyper parameter Tunning\n",
    "\n",
    "## 2. Unsupervised learning\n",
    "\n",
    "\n",
    "## 3. 기타 팁들"
   ]
  },
  {
   "cell_type": "markdown",
   "metadata": {},
   "source": []
  },
  {
   "cell_type": "markdown",
   "metadata": {},
   "source": [
    "> ### __sklearn을 활용한 cuda 연동__\n",
    "> * _Reference 1_ : __https://www.youtube.com/watch?v=GbC1BujV-J4__\n",
    "> ### __딥러닝 환경 구축__\n",
    "> * _Reference 2_ : _https://theorydb.github.io/dev/2020/02/14/dev-dl-setting-local-python/_"
   ]
  },
  {
   "cell_type": "markdown",
   "metadata": {},
   "source": []
  }
 ],
 "metadata": {
  "kernelspec": {
   "display_name": "Python 3.9.12 ('base')",
   "language": "python",
   "name": "python3"
  },
  "language_info": {
   "codemirror_mode": {
    "name": "ipython",
    "version": 3
   },
   "file_extension": ".py",
   "mimetype": "text/x-python",
   "name": "python",
   "nbconvert_exporter": "python",
   "pygments_lexer": "ipython3",
   "version": "3.9.12"
  },
  "orig_nbformat": 4,
  "vscode": {
   "interpreter": {
    "hash": "5245ba7afdb4a9d6e3efccf2485ea7ecd91c336ea597c7dec1b84aa2cbf001a9"
   }
  }
 },
 "nbformat": 4,
 "nbformat_minor": 2
}
