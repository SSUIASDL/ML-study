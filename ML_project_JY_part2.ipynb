{
 "cells": [
  {
   "cell_type": "markdown",
   "metadata": {},
   "source": [
    "### Python-sklearn을 이용한 Decision tree 예제\n",
    "\n",
    "#### 의사결정 나무란?\n",
    "##### : 여러 규칙을 순차적 적용을 통해 독립변수 공간을 분할하는 분류 모형, 분류(Classification)와 분석(Regression)에 모두 사용될수 있음\n",
    "#####   CART(Classification And Regression Tree)\n",
    "\n",
    "#### Process of Decision tree\n",
    "##### 1. 여러 독립젼수중 하나 독립변수 선택 변수별 Threshold 설정\n",
    "##### 2. 전체 학습데이터 집합(부모노드) 독립변수 값이 기준보다 큰것(자식노드1) 기준보다 작은것(자식노드2) 으로 나눔\n",
    "##### 3. 각각의 노드에 대한 1,2 단계반복 하위 자식노드 생성\n"
   ]
  },
  {
   "cell_type": "code",
   "execution_count": 7,
   "metadata": {},
   "outputs": [],
   "source": [
    "from sklearn.datasets import load_iris\n",
    "from sklearn.tree import DecisionTreeClassifier\n",
    "\n",
    "data=load_iris()\n",
    "y_data=data.target\n",
    "x_data=data.data[:,2:]\n",
    "feature_name=data.feature_names[2:]\n",
    "tree1=DecisionTreeClassifier(criterion='entropy',max_depth=1, random_state=0).fit(x_data,y_data)"
   ]
  },
  {
   "cell_type": "markdown",
   "metadata": {},
   "source": [
    "##### 의사결정 시작화 코드 draw_decision_tree, plot_decition_regions"
   ]
  },
  {
   "cell_type": "code",
   "execution_count": 15,
   "metadata": {},
   "outputs": [],
   "source": [
    "from sklearn.datasets import load_iris\n",
    "\n",
    "data=load_iris()\n",
    "y_data=data.target\n",
    "x_data=data.data[:,2:]\n",
    "feature_names=data.feature_names[2:]\n",
    "\n",
    "from sklearn.tree import DecisionTreeClassifier\n",
    "tree1=DecisionTreeClassifier(criterion='entropy',max_depth=1, random_state=0).fit(x_data,y_data)\n",
    "\n",
    "import io\n",
    "import pydot\n",
    "from IPython.core.display import Image\n",
    "from sklearn.tree import export_graphviz\n",
    "import matplotlib.pyplot as plt\n",
    "import matplotlib as mpl\n",
    "import numpy as np\n",
    "\n",
    "\n",
    "def draw_decision_tree(model):\n",
    "    dot_buf = io.StringIO()\n",
    "    export_graphviz(model, out_file=dot_buf, feature_names=feature_names)\n",
    "    graph = pydot.graph_from_dot_data(dot_buf.getvalue())[0]\n",
    "    image = graph.create_png()\n",
    "    return Image(image)\n",
    "\n",
    "def plot_decision_regions(X, y, model, title):\n",
    "    resolution = 0.01\n",
    "    markers = ('s', '^', 'o')\n",
    "    colors = ('red', 'blue', 'lightgreen')\n",
    "    cmap = mpl.colors.ListedColormap(colors)\n",
    "\n",
    "    x1_min, x1_max = X[:, 0].min() - 1, X[:, 0].max() + 1\n",
    "    x2_min, x2_max = X[:, 1].min() - 1, X[:, 1].max() + 1\n",
    "    xx1, xx2 = np.meshgrid(np.arange(x1_min, x1_max, resolution),\n",
    "                           np.arange(x2_min, x2_max, resolution))\n",
    "    Z = model.predict(\n",
    "        np.array([xx1.ravel(), xx2.ravel()]).T).reshape(xx1.shape)\n",
    "\n",
    "    plt.contour(xx1, xx2, Z, cmap=mpl.colors.ListedColormap(['k']))\n",
    "    plt.contourf(xx1, xx2, Z, alpha=0.4, cmap=cmap)\n",
    "    plt.xlim(xx1.min(), xx1.max())\n",
    "    plt.ylim(xx2.min(), xx2.max())\n",
    "\n",
    "    for idx, cl in enumerate(np.unique(y)):\n",
    "        plt.scatter(x=X[y == cl, 0], y=X[y == cl, 1], alpha=0.8,\n",
    "                    c=[cmap(idx)], marker=markers[idx], s=80, label=cl)\n",
    "\n",
    "    plt.xlabel(data.feature_names[2])\n",
    "    plt.ylabel(data.feature_names[3])\n",
    "    plt.legend(loc='upper left')\n",
    "    plt.title(title)\n",
    "\n",
    "    return Z\n"
   ]
  },
  {
   "cell_type": "code",
   "execution_count": null,
   "metadata": {},
   "outputs": [],
   "source": []
  },
  {
   "cell_type": "code",
   "execution_count": null,
   "metadata": {},
   "outputs": [],
   "source": [
    "## "
   ]
  }
 ],
 "metadata": {
  "kernelspec": {
   "display_name": "Python 3.9.12 ('base')",
   "language": "python",
   "name": "python3"
  },
  "language_info": {
   "codemirror_mode": {
    "name": "ipython",
    "version": 3
   },
   "file_extension": ".py",
   "mimetype": "text/x-python",
   "name": "python",
   "nbconvert_exporter": "python",
   "pygments_lexer": "ipython3",
   "version": "3.9.12"
  },
  "orig_nbformat": 4,
  "vscode": {
   "interpreter": {
    "hash": "5245ba7afdb4a9d6e3efccf2485ea7ecd91c336ea597c7dec1b84aa2cbf001a9"
   }
  }
 },
 "nbformat": 4,
 "nbformat_minor": 2
}
