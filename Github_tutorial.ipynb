{
 "cells": [
  {
   "cell_type": "markdown",
   "metadata": {},
   "source": [
    "# 개발 환경 설정 VScode에서 파이썬\n",
    "\n",
    "## Github 연동\n",
    "   * reference : https://hackmd.io/@oW_dDxdsRoSpl0M64Tfg2g/ByfwpNJ-K\n",
    "\n",
    "\n",
    "### step 1 : git 설치 https://git-scm.com/\n",
    "### step 2 : git 실행... 설정\n",
    "           * git config -- global user.name \"username\"                  ( 유저 이름 설정 )\n",
    "           * git config -- global user.emali \"pokerface9671@gmail.com\"  ( 유저이메일 설정하기 )\n",
    "           * git list                                                   ( 정보확인 )\n",
    "### step 3 : Visual basic code ... terminal using\n",
    "           * git init\n",
    "           * git add .\n",
    "           * git status\n",
    "           * git commit - m \"first commit\"\n",
    "           * git remote - v\n",
    "           * git push origin mast\n",
    "### Github에 계속 업데이트 \n",
    "           * git add.\n",
    "           * git commit -m \"first commit\"\n",
    "           * git push origin master\n",
    " \n"
   ]
  }
 ],
 "metadata": {
  "kernelspec": {
   "display_name": "Python 3.8.6 64-bit",
   "language": "python",
   "name": "python3"
  },
  "language_info": {
   "name": "python",
   "version": "3.8.6"
  },
  "orig_nbformat": 4,
  "vscode": {
   "interpreter": {
    "hash": "5f06897a1746e36d77cab94e425ccff97466eb11bd9e0cbc30dcea732d04a6cb"
   }
  }
 },
 "nbformat": 4,
 "nbformat_minor": 2
}
