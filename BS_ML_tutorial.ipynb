{
 "cells": [
  {
   "cell_type": "code",
   "execution_count": 2,
   "metadata": {},
   "outputs": [
    {
     "name": "stdout",
     "output_type": "stream",
     "text": [
      "hello word\n"
     ]
    }
   ],
   "source": [
    "print('hello word')"
   ]
  },
  {
   "cell_type": "markdown",
   "metadata": {},
   "source": [
    "# 기계학습 알고리즘 (MNIST)\n",
    "## 1. 개발 환경 설정\n",
    "  * 필수 Libery : numpy, matplot, sklearn, pandas\n",
    "  * Minist 데이터 셋 분류 Project\n",
    "\n",
    "## [] ML 학습 금주내 학습 완료 ( 삼성전자 데이터 분석 수행 )\n",
    "## [] Signal 분석\n"
   ]
  },
  {
   "cell_type": "code",
   "execution_count": 1,
   "metadata": {},
   "outputs": [
    {
     "ename": "KeyboardInterrupt",
     "evalue": "",
     "output_type": "error",
     "traceback": [
      "\u001b[1;31m---------------------------------------------------------------------------\u001b[0m",
      "\u001b[1;31mKeyboardInterrupt\u001b[0m                         Traceback (most recent call last)",
      "\u001b[1;32mc:\\00) Researches\\ML_STUDY\\BS_ML_tutorial.ipynb 셀 3\u001b[0m in \u001b[0;36m<cell line: 2>\u001b[1;34m()\u001b[0m\n\u001b[0;32m      <a href='vscode-notebook-cell:/c%3A/00%29%20Researches/ML_STUDY/BS_ML_tutorial.ipynb#W2sZmlsZQ%3D%3D?line=0'>1</a>\u001b[0m \u001b[39mfrom\u001b[39;00m \u001b[39msklearn\u001b[39;00m\u001b[39m.\u001b[39;00m\u001b[39mdatasets\u001b[39;00m \u001b[39mimport\u001b[39;00m fetch_openml\n\u001b[1;32m----> <a href='vscode-notebook-cell:/c%3A/00%29%20Researches/ML_STUDY/BS_ML_tutorial.ipynb#W2sZmlsZQ%3D%3D?line=1'>2</a>\u001b[0m mnist \u001b[39m=\u001b[39m fetch_openml(\u001b[39m'\u001b[39;49m\u001b[39mmnist_784\u001b[39;49m\u001b[39m'\u001b[39;49m, version\u001b[39m=\u001b[39;49m\u001b[39m1\u001b[39;49m, as_frame\u001b[39m=\u001b[39;49m\u001b[39mFalse\u001b[39;49;00m)\n\u001b[0;32m      <a href='vscode-notebook-cell:/c%3A/00%29%20Researches/ML_STUDY/BS_ML_tutorial.ipynb#W2sZmlsZQ%3D%3D?line=3'>4</a>\u001b[0m D_train \u001b[39m=\u001b[39m mnist\u001b[39m.\u001b[39mdata[:\u001b[39m60000\u001b[39m]\n\u001b[0;32m      <a href='vscode-notebook-cell:/c%3A/00%29%20Researches/ML_STUDY/BS_ML_tutorial.ipynb#W2sZmlsZQ%3D%3D?line=4'>5</a>\u001b[0m L_train \u001b[39m=\u001b[39m mnist\u001b[39m.\u001b[39mtarget[:\u001b[39m60000\u001b[39m]\n",
      "File \u001b[1;32mc:\\Users\\poker\\anaconda3\\lib\\site-packages\\sklearn\\datasets\\_openml.py:958\u001b[0m, in \u001b[0;36mfetch_openml\u001b[1;34m(name, version, data_id, data_home, target_column, cache, return_X_y, as_frame)\u001b[0m\n\u001b[0;32m    956\u001b[0m \u001b[39m# obtain the data\u001b[39;00m\n\u001b[0;32m    957\u001b[0m url \u001b[39m=\u001b[39m _DATA_FILE\u001b[39m.\u001b[39mformat(data_description[\u001b[39m\"\u001b[39m\u001b[39mfile_id\u001b[39m\u001b[39m\"\u001b[39m])\n\u001b[1;32m--> 958\u001b[0m bunch \u001b[39m=\u001b[39m _download_data_to_bunch(\n\u001b[0;32m    959\u001b[0m     url,\n\u001b[0;32m    960\u001b[0m     return_sparse,\n\u001b[0;32m    961\u001b[0m     data_home,\n\u001b[0;32m    962\u001b[0m     as_frame\u001b[39m=\u001b[39;49m\u001b[39mbool\u001b[39;49m(as_frame),\n\u001b[0;32m    963\u001b[0m     features_list\u001b[39m=\u001b[39;49mfeatures_list,\n\u001b[0;32m    964\u001b[0m     shape\u001b[39m=\u001b[39;49mshape,\n\u001b[0;32m    965\u001b[0m     target_columns\u001b[39m=\u001b[39;49mtarget_columns,\n\u001b[0;32m    966\u001b[0m     data_columns\u001b[39m=\u001b[39;49mdata_columns,\n\u001b[0;32m    967\u001b[0m     md5_checksum\u001b[39m=\u001b[39;49mdata_description[\u001b[39m\"\u001b[39;49m\u001b[39mmd5_checksum\u001b[39;49m\u001b[39m\"\u001b[39;49m],\n\u001b[0;32m    968\u001b[0m )\n\u001b[0;32m    970\u001b[0m \u001b[39mif\u001b[39;00m return_X_y:\n\u001b[0;32m    971\u001b[0m     \u001b[39mreturn\u001b[39;00m bunch\u001b[39m.\u001b[39mdata, bunch\u001b[39m.\u001b[39mtarget\n",
      "File \u001b[1;32mc:\\Users\\poker\\anaconda3\\lib\\site-packages\\sklearn\\datasets\\_openml.py:655\u001b[0m, in \u001b[0;36m_download_data_to_bunch\u001b[1;34m(url, sparse, data_home, as_frame, features_list, data_columns, target_columns, shape, md5_checksum)\u001b[0m\n\u001b[0;32m    652\u001b[0m             y \u001b[39m=\u001b[39m \u001b[39mNone\u001b[39;00m\n\u001b[0;32m    653\u001b[0m         \u001b[39mreturn\u001b[39;00m X, y, frame, nominal_attributes\n\u001b[1;32m--> 655\u001b[0m out \u001b[39m=\u001b[39m _retry_with_clean_cache(url, data_home)(_load_arff_response)(\n\u001b[0;32m    656\u001b[0m     url,\n\u001b[0;32m    657\u001b[0m     data_home,\n\u001b[0;32m    658\u001b[0m     return_type\u001b[39m=\u001b[39;49mreturn_type,\n\u001b[0;32m    659\u001b[0m     encode_nominal\u001b[39m=\u001b[39;49m\u001b[39mnot\u001b[39;49;00m as_frame,\n\u001b[0;32m    660\u001b[0m     parse_arff\u001b[39m=\u001b[39;49mparse_arff,\n\u001b[0;32m    661\u001b[0m     md5_checksum\u001b[39m=\u001b[39;49mmd5_checksum,\n\u001b[0;32m    662\u001b[0m )\n\u001b[0;32m    663\u001b[0m X, y, frame, nominal_attributes \u001b[39m=\u001b[39m postprocess(\u001b[39m*\u001b[39mout)\n\u001b[0;32m    665\u001b[0m \u001b[39mreturn\u001b[39;00m Bunch(\n\u001b[0;32m    666\u001b[0m     data\u001b[39m=\u001b[39mX,\n\u001b[0;32m    667\u001b[0m     target\u001b[39m=\u001b[39my,\n\u001b[1;32m   (...)\u001b[0m\n\u001b[0;32m    671\u001b[0m     target_names\u001b[39m=\u001b[39mtarget_columns,\n\u001b[0;32m    672\u001b[0m )\n",
      "File \u001b[1;32mc:\\Users\\poker\\anaconda3\\lib\\site-packages\\sklearn\\datasets\\_openml.py:61\u001b[0m, in \u001b[0;36m_retry_with_clean_cache.<locals>.decorator.<locals>.wrapper\u001b[1;34m(*args, **kw)\u001b[0m\n\u001b[0;32m     59\u001b[0m     \u001b[39mreturn\u001b[39;00m f(\u001b[39m*\u001b[39margs, \u001b[39m*\u001b[39m\u001b[39m*\u001b[39mkw)\n\u001b[0;32m     60\u001b[0m \u001b[39mtry\u001b[39;00m:\n\u001b[1;32m---> 61\u001b[0m     \u001b[39mreturn\u001b[39;00m f(\u001b[39m*\u001b[39margs, \u001b[39m*\u001b[39m\u001b[39m*\u001b[39mkw)\n\u001b[0;32m     62\u001b[0m \u001b[39mexcept\u001b[39;00m HTTPError:\n\u001b[0;32m     63\u001b[0m     \u001b[39mraise\u001b[39;00m\n",
      "File \u001b[1;32mc:\\Users\\poker\\anaconda3\\lib\\site-packages\\sklearn\\datasets\\_openml.py:529\u001b[0m, in \u001b[0;36m_load_arff_response\u001b[1;34m(url, data_home, return_type, encode_nominal, parse_arff, md5_checksum)\u001b[0m\n\u001b[0;32m    523\u001b[0m stream \u001b[39m=\u001b[39m _stream_checksum_generator(response)\n\u001b[0;32m    525\u001b[0m arff \u001b[39m=\u001b[39m _arff\u001b[39m.\u001b[39mload(\n\u001b[0;32m    526\u001b[0m     stream, return_type\u001b[39m=\u001b[39mreturn_type, encode_nominal\u001b[39m=\u001b[39mencode_nominal\n\u001b[0;32m    527\u001b[0m )\n\u001b[1;32m--> 529\u001b[0m parsed_arff \u001b[39m=\u001b[39m parse_arff(arff)\n\u001b[0;32m    531\u001b[0m \u001b[39m# consume remaining stream, if early exited\u001b[39;00m\n\u001b[0;32m    532\u001b[0m \u001b[39mfor\u001b[39;00m _ \u001b[39min\u001b[39;00m stream:\n",
      "File \u001b[1;32mc:\\Users\\poker\\anaconda3\\lib\\site-packages\\sklearn\\datasets\\_openml.py:613\u001b[0m, in \u001b[0;36m_download_data_to_bunch.<locals>.parse_arff\u001b[1;34m(arff)\u001b[0m\n\u001b[0;32m    612\u001b[0m \u001b[39mdef\u001b[39;00m \u001b[39mparse_arff\u001b[39m(arff):\n\u001b[1;32m--> 613\u001b[0m     X, y \u001b[39m=\u001b[39m _convert_arff_data(arff, col_slice_x, col_slice_y, shape)\n\u001b[0;32m    614\u001b[0m     \u001b[39m# nominal attributes is a dict mapping from the attribute name to\u001b[39;00m\n\u001b[0;32m    615\u001b[0m     \u001b[39m# the possible values. Includes also the target column (which will\u001b[39;00m\n\u001b[0;32m    616\u001b[0m     \u001b[39m# be popped off below, before it will be packed in the Bunch\u001b[39;00m\n\u001b[0;32m    617\u001b[0m     \u001b[39m# object)\u001b[39;00m\n\u001b[0;32m    618\u001b[0m     nominal_attributes \u001b[39m=\u001b[39m {\n\u001b[0;32m    619\u001b[0m         k: v\n\u001b[0;32m    620\u001b[0m         \u001b[39mfor\u001b[39;00m k, v \u001b[39min\u001b[39;00m arff[\u001b[39m\"\u001b[39m\u001b[39mattributes\u001b[39m\u001b[39m\"\u001b[39m]\n\u001b[0;32m    621\u001b[0m         \u001b[39mif\u001b[39;00m \u001b[39misinstance\u001b[39m(v, \u001b[39mlist\u001b[39m) \u001b[39mand\u001b[39;00m k \u001b[39min\u001b[39;00m data_columns \u001b[39m+\u001b[39m target_columns\n\u001b[0;32m    622\u001b[0m     }\n",
      "File \u001b[1;32mc:\\Users\\poker\\anaconda3\\lib\\site-packages\\sklearn\\datasets\\_openml.py:277\u001b[0m, in \u001b[0;36m_convert_arff_data\u001b[1;34m(arff, col_slice_x, col_slice_y, shape)\u001b[0m\n\u001b[0;32m    275\u001b[0m \u001b[39melse\u001b[39;00m:\n\u001b[0;32m    276\u001b[0m     count \u001b[39m=\u001b[39m shape[\u001b[39m0\u001b[39m] \u001b[39m*\u001b[39m shape[\u001b[39m1\u001b[39m]\n\u001b[1;32m--> 277\u001b[0m data \u001b[39m=\u001b[39m np\u001b[39m.\u001b[39;49mfromiter(\n\u001b[0;32m    278\u001b[0m     itertools\u001b[39m.\u001b[39;49mchain\u001b[39m.\u001b[39;49mfrom_iterable(arff_data), dtype\u001b[39m=\u001b[39;49m\u001b[39m\"\u001b[39;49m\u001b[39mfloat64\u001b[39;49m\u001b[39m\"\u001b[39;49m, count\u001b[39m=\u001b[39;49mcount\n\u001b[0;32m    279\u001b[0m )\n\u001b[0;32m    280\u001b[0m data \u001b[39m=\u001b[39m data\u001b[39m.\u001b[39mreshape(\u001b[39m*\u001b[39mshape)\n\u001b[0;32m    281\u001b[0m X \u001b[39m=\u001b[39m data[:, col_slice_x]\n",
      "File \u001b[1;32mc:\\Users\\poker\\anaconda3\\lib\\site-packages\\sklearn\\externals\\_arff.py:461\u001b[0m, in \u001b[0;36mDenseGeneratorData.decode_rows\u001b[1;34m(self, stream, conversors)\u001b[0m\n\u001b[0;32m    460\u001b[0m \u001b[39mdef\u001b[39;00m \u001b[39mdecode_rows\u001b[39m(\u001b[39mself\u001b[39m, stream, conversors):\n\u001b[1;32m--> 461\u001b[0m     \u001b[39mfor\u001b[39;00m row \u001b[39min\u001b[39;00m stream:\n\u001b[0;32m    462\u001b[0m         values \u001b[39m=\u001b[39m _parse_values(row)\n\u001b[0;32m    464\u001b[0m         \u001b[39mif\u001b[39;00m \u001b[39misinstance\u001b[39m(values, \u001b[39mdict\u001b[39m):\n",
      "File \u001b[1;32mc:\\Users\\poker\\anaconda3\\lib\\site-packages\\sklearn\\externals\\_arff.py:864\u001b[0m, in \u001b[0;36mArffDecoder._decode.<locals>.stream\u001b[1;34m()\u001b[0m\n\u001b[0;32m    863\u001b[0m \u001b[39mdef\u001b[39;00m \u001b[39mstream\u001b[39m():\n\u001b[1;32m--> 864\u001b[0m     \u001b[39mfor\u001b[39;00m row \u001b[39min\u001b[39;00m s:\n\u001b[0;32m    865\u001b[0m         \u001b[39mself\u001b[39m\u001b[39m.\u001b[39m_current_line \u001b[39m+\u001b[39m\u001b[39m=\u001b[39m \u001b[39m1\u001b[39m\n\u001b[0;32m    866\u001b[0m         row \u001b[39m=\u001b[39m row\u001b[39m.\u001b[39mstrip()\n",
      "File \u001b[1;32mc:\\Users\\poker\\anaconda3\\lib\\site-packages\\sklearn\\datasets\\_openml.py:519\u001b[0m, in \u001b[0;36m_load_arff_response.<locals>._stream_checksum_generator\u001b[1;34m(response)\u001b[0m\n\u001b[0;32m    518\u001b[0m \u001b[39mdef\u001b[39;00m \u001b[39m_stream_checksum_generator\u001b[39m(response):\n\u001b[1;32m--> 519\u001b[0m     \u001b[39mfor\u001b[39;00m line \u001b[39min\u001b[39;00m response:\n\u001b[0;32m    520\u001b[0m         actual_md5_checksum\u001b[39m.\u001b[39mupdate(line)\n\u001b[0;32m    521\u001b[0m         \u001b[39myield\u001b[39;00m line\u001b[39m.\u001b[39mdecode(\u001b[39m\"\u001b[39m\u001b[39mutf-8\u001b[39m\u001b[39m\"\u001b[39m)\n",
      "File \u001b[1;32mc:\\Users\\poker\\anaconda3\\lib\\gzip.py:398\u001b[0m, in \u001b[0;36mGzipFile.readline\u001b[1;34m(self, size)\u001b[0m\n\u001b[0;32m    396\u001b[0m \u001b[39mdef\u001b[39;00m \u001b[39mreadline\u001b[39m(\u001b[39mself\u001b[39m, size\u001b[39m=\u001b[39m\u001b[39m-\u001b[39m\u001b[39m1\u001b[39m):\n\u001b[0;32m    397\u001b[0m     \u001b[39mself\u001b[39m\u001b[39m.\u001b[39m_check_not_closed()\n\u001b[1;32m--> 398\u001b[0m     \u001b[39mreturn\u001b[39;00m \u001b[39mself\u001b[39;49m\u001b[39m.\u001b[39;49m_buffer\u001b[39m.\u001b[39;49mreadline(size)\n",
      "File \u001b[1;32mc:\\Users\\poker\\anaconda3\\lib\\_compression.py:68\u001b[0m, in \u001b[0;36mDecompressReader.readinto\u001b[1;34m(self, b)\u001b[0m\n\u001b[0;32m     66\u001b[0m \u001b[39mdef\u001b[39;00m \u001b[39mreadinto\u001b[39m(\u001b[39mself\u001b[39m, b):\n\u001b[0;32m     67\u001b[0m     \u001b[39mwith\u001b[39;00m \u001b[39mmemoryview\u001b[39m(b) \u001b[39mas\u001b[39;00m view, view\u001b[39m.\u001b[39mcast(\u001b[39m\"\u001b[39m\u001b[39mB\u001b[39m\u001b[39m\"\u001b[39m) \u001b[39mas\u001b[39;00m byte_view:\n\u001b[1;32m---> 68\u001b[0m         data \u001b[39m=\u001b[39m \u001b[39mself\u001b[39;49m\u001b[39m.\u001b[39;49mread(\u001b[39mlen\u001b[39;49m(byte_view))\n\u001b[0;32m     69\u001b[0m         byte_view[:\u001b[39mlen\u001b[39m(data)] \u001b[39m=\u001b[39m data\n\u001b[0;32m     70\u001b[0m     \u001b[39mreturn\u001b[39;00m \u001b[39mlen\u001b[39m(data)\n",
      "File \u001b[1;32mc:\\Users\\poker\\anaconda3\\lib\\gzip.py:495\u001b[0m, in \u001b[0;36m_GzipReader.read\u001b[1;34m(self, size)\u001b[0m\n\u001b[0;32m    492\u001b[0m \u001b[39m# Read a chunk of data from the file\u001b[39;00m\n\u001b[0;32m    493\u001b[0m buf \u001b[39m=\u001b[39m \u001b[39mself\u001b[39m\u001b[39m.\u001b[39m_fp\u001b[39m.\u001b[39mread(io\u001b[39m.\u001b[39mDEFAULT_BUFFER_SIZE)\n\u001b[1;32m--> 495\u001b[0m uncompress \u001b[39m=\u001b[39m \u001b[39mself\u001b[39;49m\u001b[39m.\u001b[39;49m_decompressor\u001b[39m.\u001b[39;49mdecompress(buf, size)\n\u001b[0;32m    496\u001b[0m \u001b[39mif\u001b[39;00m \u001b[39mself\u001b[39m\u001b[39m.\u001b[39m_decompressor\u001b[39m.\u001b[39munconsumed_tail \u001b[39m!=\u001b[39m \u001b[39mb\u001b[39m\u001b[39m\"\u001b[39m\u001b[39m\"\u001b[39m:\n\u001b[0;32m    497\u001b[0m     \u001b[39mself\u001b[39m\u001b[39m.\u001b[39m_fp\u001b[39m.\u001b[39mprepend(\u001b[39mself\u001b[39m\u001b[39m.\u001b[39m_decompressor\u001b[39m.\u001b[39munconsumed_tail)\n",
      "\u001b[1;31mKeyboardInterrupt\u001b[0m: "
     ]
    }
   ],
   "source": [
    "from sklearn.datasets import fetch_openml\n",
    "mnist = fetch_openml('mnist_784', version=1, as_frame=False)\n",
    "\n",
    "D_train = mnist.data[:60000]\n",
    "L_train = mnist.target[:60000]\n",
    "\n",
    "D_test = mnist.data[60000:]\n",
    "L_test = mnist.target[60000:]\n"
   ]
  },
  {
   "cell_type": "code",
   "execution_count": 6,
   "metadata": {},
   "outputs": [
    {
     "data": {
      "text/plain": [
       "<function matplotlib.pyplot.show(close=None, block=None)>"
      ]
     },
     "execution_count": 6,
     "metadata": {},
     "output_type": "execute_result"
    },
    {
     "data": {
      "image/png": "[encoded data removed]",
      "text/plain": [
       "<Figure size 432x288 with 1 Axes>"
      ]
     },
     "metadata": {
      "needs_background": "light"
     },
     "output_type": "display_data"
    }
   ],
   "source": [
    "# Data ploting using matplot\n",
    "import matplotlib\n",
    "import matplotlib.pyplot as plt\n",
    "x=D_train[20000]\n",
    "x_digit_image=x.reshape(28,28)\n",
    "plt.imshow(x_digit_image, cmap=matplotlib.cm.binary, interpolation='nearest')\n",
    "plt.axis('off')\n",
    "plt.show"
   ]
  },
  {
   "cell_type": "code",
   "execution_count": null,
   "metadata": {},
   "outputs": [],
   "source": []
  },
  {
   "cell_type": "markdown",
   "metadata": {},
   "source": [
    "# 머신러닝\n",
    "\n",
    "## 지도학습, 비지도학습\n",
    "\n",
    "   1. 지도학습(supevised learning) : label\n",
    "      - k-NN\n",
    "      - linear regression\n",
    "      - logistic regression\n",
    "      - support vector machine\n",
    "      - Decision tree, Random Forest\n",
    "      - Neural network\n",
    "\n",
    "   2. 비지도학습 (unsupervised learning) : No label\n",
    "      - Visualization, dimensionality reduction \n",
    "      - clustering \n",
    "      - Association rule learning\n",
    "        \n",
    "\n",
    "   3. 준지도학습 (semisupervised learning) : deep belief \n",
    "\n",
    "   4. 강화학습 : reward, penalty 기반 학슴 큰보상을 얻기 위해 Policy를 극대화 하는 방향성으로 학습\n",
    "\n",
    "## 배치 학습 온라인학습\n",
    "   1. 배치학습\n",
    "      * 배치란 ??: https://losskatsu.github.io/machine-learning/epoch-batch/#1-%EC%82%AC%EC%A0%84%EC%A0%81-%EC%9D%98%EB%AF%B8\n",
    "      * ex) 트레이닝 데이터 : 700개 -> 미니배치 100개 ; 배치사이즈 :100\n",
    "            테스트데이터 300개\n",
    "      * 에폭 (epoch) : 전체 트레이니 셋이 신경망을 통과하는 횟수 순전파와 역전파 통해 신경망을 한 번 통과했다는것 의미\n",
    "      * iteration : 1-epoch 하기위해 소요되는 미니 배치 갯수; 1-epoch 마치는데 필요한 parameter update 횟수\n",
    "\n",
    "   2. 온라인학습\n",
    "\n",
    "## 사례 기반 학습 모델 기반 학습\n",
    "   1. 사례기반 학습\n",
    "      * 유사도 측정 기반 데이터 분류\n",
    "\n",
    "   2. 모델기반 학습\n",
    "      * 샘플 데이터 기반 모델 생성 -> 모델 학습\n",
    "      * 모델을 평가히기 위한 평가함수\n",
    "         utility function,  cost fuction 기반 최적 model parameter 산출 (Training)\n",
    "   3. Learning process\n",
    "      * step 1 : Data analysis\n",
    "      * step 2 : Model selection\n",
    "      * step 3 : Training\n",
    "      * step 4 : prediction\n"
   ]
  },
  {
   "cell_type": "markdown",
   "metadata": {},
   "source": []
  },
  {
   "cell_type": "markdown",
   "metadata": {},
   "source": [
    "## Classification\n",
    "## 3.1 Minist\n"
   ]
  },
  {
   "cell_type": "code",
   "execution_count": 12,
   "metadata": {},
   "outputs": [
    {
     "data": {
      "text/plain": [
       "(70000, 784)"
      ]
     },
     "execution_count": 12,
     "metadata": {},
     "output_type": "execute_result"
    }
   ],
   "source": [
    "from sklearn.datasets import fetch_openml\n",
    "import numpy as np\n",
    "mnist = fetch_openml('mnist_784', version=1, as_frame=False)\n",
    "mnist.keys()\n",
    "\n",
    "x,y = mnist['data'],mnist['target']\n",
    "x.shape"
   ]
  },
  {
   "cell_type": "code",
   "execution_count": 13,
   "metadata": {},
   "outputs": [],
   "source": [
    "y.shape\n",
    "y=y.astype(np.int8) #"
   ]
  },
  {
   "cell_type": "code",
   "execution_count": 14,
   "metadata": {},
   "outputs": [
    {
     "data": {
      "image/png": "[encoded data removed]",
      "text/plain": [
       "<Figure size 432x288 with 1 Axes>"
      ]
     },
     "metadata": {
      "needs_background": "light"
     },
     "output_type": "display_data"
    }
   ],
   "source": [
    "some_digit = x[0]\n",
    "# reshape () 함수를 2차원 array로 변환\n",
    "some_digit_image = some_digit.reshape(28,28)\n",
    "\n",
    "import matplotlib\n",
    "import matplotlib.pyplot as plt\n",
    "plt.imshow(some_digit_image,cmap=matplotlib.cm.binary)\n",
    "plt.axis('off')\n",
    "plt.show()"
   ]
  },
  {
   "cell_type": "code",
   "execution_count": 15,
   "metadata": {},
   "outputs": [
    {
     "data": {
      "text/plain": [
       "5"
      ]
     },
     "execution_count": 15,
     "metadata": {},
     "output_type": "execute_result"
    }
   ],
   "source": [
    "y[0]"
   ]
  },
  {
   "cell_type": "code",
   "execution_count": 16,
   "metadata": {},
   "outputs": [
    {
     "name": "stdout",
     "output_type": "stream",
     "text": [
      "[ True False False ...  True False False]\n",
      "[[0. 0. 0. ... 0. 0. 0.]\n",
      " [0. 0. 0. ... 0. 0. 0.]\n",
      " [0. 0. 0. ... 0. 0. 0.]\n",
      " ...\n",
      " [0. 0. 0. ... 0. 0. 0.]\n",
      " [0. 0. 0. ... 0. 0. 0.]\n",
      " [0. 0. 0. ... 0. 0. 0.]]\n"
     ]
    }
   ],
   "source": [
    "X_train, X_test, y_train, y_test = x[:60000], x[60000:], y[:60000], y[60000:]# 트레이닝 세트 : 검증세트 구현 = 6:1\n",
    "\n",
    "y_train_5 = (y_train == 5) # 5는 True고, 다른 숫자는 모두 False\n",
    "y_test_5 = (y_test == 5)\n",
    "\n",
    "print (y_train_5)\n",
    "print (X_train)\n"
   ]
  },
  {
   "cell_type": "code",
   "execution_count": 18,
   "metadata": {},
   "outputs": [
    {
     "data": {
      "text/plain": [
       "array([ True])"
      ]
     },
     "execution_count": 18,
     "metadata": {},
     "output_type": "execute_result"
    }
   ],
   "source": [
    "from sklearn.linear_model import SGDClassifier\n",
    "sgd_clf = SGDClassifier(\n",
    "    max_iter=1000, # 최대 반복횟수를 지정, 원래 기본값이 1000\n",
    "    tol=1e-3, # tolerance값보다 모델이 향상되지 않으면 훈련을 멈추라는 종료 장치\n",
    "    random_state=42)\n",
    "# 위의 변수들이 다 default이기 때문에 \n",
    "# SGDClassifier(random_state=42)랑 똑같다.\n",
    "sgd_clf.fit(X_train, y_train_5)\n",
    "sgd_clf.predict([some_digit])"
   ]
  },
  {
   "cell_type": "markdown",
   "metadata": {},
   "source": [
    "## 3.3 성능 측정\n",
    "\n",
    "\n",
    "3.3.1 교차검증을 사용한 정확도 측정"
   ]
  },
  {
   "cell_type": "code",
   "execution_count": null,
   "metadata": {},
   "outputs": [],
   "source": []
  },
  {
   "cell_type": "markdown",
   "metadata": {},
   "source": [
    "## 3.4 다중 분류\n",
    "\n",
    "- SGD 분류기, 랜덤 포레스트 분류기, 나이브베이즈 분류기 의 경우 여러개의 클래스를 직접 처리 가능\n",
    "- 로지스틱 회긔 서포트 백터의 경우 이진분류만 가능 -> 이진 분류기를 여러개를 사용하여 다중클라스 분류가능\n",
    "\n",
    "\n",
    "- 이진분류기 10개 훈련 시켜 숫자이미지 분류 시스템 제작 방법론\n",
    "    * 각분류기에서 점수가 가장높은것을 선택 (One-versus the rest :OVR)\n",
    "      - 세트 1개를 전체와 구별\n",
    "      - e대부분 OVR 선호\n",
    "    \n",
    "    * 0 과 1 구별, 1과 2구별 각각의 조합마다 이진분류기 훈련 (One-versus one : OvO) 클래스가 N개 라면 ... 분류기 갯수 N x (N-1)/2 \n",
    "      - 2개의 샘플수만 분류가능한 데이터만 전체 훈련세트중 구별할수 있는 두클래스에 해당하는 샘플만 필요\n",
    "      - 작은훈련세트에서 만은 분류기를 훈련시키는쪽이 빠름 (SVM)\n",
    "\n",
    "- #### 사이킷런에서는 OvR, OvO를 자동적으로 선택 해주기 때문에 추가작업은 필요 하지 않음 ... 기본 개념만 가져갈것"
   ]
  },
  {
   "cell_type": "markdown",
   "metadata": {},
   "source": [
    "### 다중분류 예시"
   ]
  },
  {
   "cell_type": "code",
   "execution_count": 31,
   "metadata": {},
   "outputs": [
    {
     "data": {
      "text/plain": [
       "array([5], dtype=int8)"
      ]
     },
     "execution_count": 31,
     "metadata": {},
     "output_type": "execute_result"
    }
   ],
   "source": [
    "from sklearn.svm import SVC\n",
    "svm_clf=SVC()\n",
    "svm_clf.fit(X_train,y_train)\n",
    "svm_clf.predict([some_digit])"
   ]
  },
  {
   "cell_type": "markdown",
   "metadata": {},
   "source": []
  },
  {
   "cell_type": "code",
   "execution_count": 28,
   "metadata": {},
   "outputs": [
    {
     "data": {
      "text/plain": [
       "5"
      ]
     },
     "execution_count": 28,
     "metadata": {},
     "output_type": "execute_result"
    }
   ],
   "source": [
    "some_digit_scores=svm_clf.decision_function([some_digit])\n",
    "some_digit_scores\n",
    "\n",
    "np.argmax(some_digit_scores)\n",
    "svm_clf.classes_\n",
    "svm_clf.classes_[5]"
   ]
  },
  {
   "cell_type": "markdown",
   "metadata": {},
   "source": [
    "#### 사이킷런에서 OvO, OvR 강제설정 하고싶을때 ... OneVsOneClassifier 나 OneVsRestClassifier를 통해 데이터 운용이 가능"
   ]
  },
  {
   "cell_type": "code",
   "execution_count": null,
   "metadata": {},
   "outputs": [],
   "source": [
    "#from sklearn.multiclass import OneVsRestClassifier\n",
    "#ovr_clf = OneVsRestClassifier(SVC())\n",
    "#ovr_clf.fit(X_train,y_train)\n",
    "#ovr_clf.predict([some_digit])"
   ]
  },
  {
   "cell_type": "markdown",
   "metadata": {},
   "source": []
  },
  {
   "cell_type": "markdown",
   "metadata": {},
   "source": []
  }
 ],
 "metadata": {
  "kernelspec": {
   "display_name": "Python 3.9.12 ('base')",
   "language": "python",
   "name": "python3"
  },
  "language_info": {
   "codemirror_mode": {
    "name": "ipython",
    "version": 3
   },
   "file_extension": ".py",
   "mimetype": "text/x-python",
   "name": "python",
   "nbconvert_exporter": "python",
   "pygments_lexer": "ipython3",
   "version": "3.9.12"
  },
  "orig_nbformat": 4,
  "vscode": {
   "interpreter": {
    "hash": "5245ba7afdb4a9d6e3efccf2485ea7ecd91c336ea597c7dec1b84aa2cbf001a9"
   }
  }
 },
 "nbformat": 4,
 "nbformat_minor": 2
}
