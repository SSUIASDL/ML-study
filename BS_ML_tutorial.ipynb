{
 "cells": [
  {
   "cell_type": "code",
   "execution_count": 2,
   "metadata": {},
   "outputs": [
    {
     "name": "stdout",
     "output_type": "stream",
     "text": [
      "hello word\n"
     ]
    }
   ],
   "source": [
    "print('hello word')"
   ]
  },
  {
   "cell_type": "markdown",
   "metadata": {},
   "source": [
    "# 기계학습 알고리즘 (MNIST)\n",
    "## 1. 개발 환경 설정\n",
    "  * 필수 Libery : numpy, matplot, sklearn, pandas\n",
    "  * Minist 데이터 셋 분류 Project\n",
    "\n",
    "## [] ML 학습 금주내 학습 완료 ( 삼성전자 데이터 분석 수행 )\n",
    "## [] Signal 분석\n"
   ]
  },
  {
   "cell_type": "code",
   "execution_count": 3,
   "metadata": {},
   "outputs": [],
   "source": [
    "from sklearn.datasets import fetch_openml\n",
    "mnist = fetch_openml('mnist_784', version=1, as_frame=False)\n",
    "\n",
    "D_train = mnist.data[:60000]\n",
    "L_train = mnist.target[:60000]\n",
    "\n",
    "D_test = mnist.data[60000:]\n",
    "L_test = mnist.target[60000:]\n"
   ]
  },
  {
   "cell_type": "code",
   "execution_count": 6,
   "metadata": {},
   "outputs": [
    {
     "data": {
      "text/plain": [
       "<function matplotlib.pyplot.show(close=None, block=None)>"
      ]
     },
     "execution_count": 6,
     "metadata": {},
     "output_type": "execute_result"
    },
    {
     "data": {
      "image/png": "[encoded data removed]",
      "text/plain": [
       "<Figure size 432x288 with 1 Axes>"
      ]
     },
     "metadata": {
      "needs_background": "light"
     },
     "output_type": "display_data"
    }
   ],
   "source": [
    "# Data ploting using matplot\n",
    "import matplotlib\n",
    "import matplotlib.pyplot as plt\n",
    "x=D_train[20000]\n",
    "x_digit_image=x.reshape(28,28)\n",
    "plt.imshow(x_digit_image, cmap=matplotlib.cm.binary, interpolation='nearest')\n",
    "plt.axis('off')\n",
    "plt.show"
   ]
  },
  {
   "cell_type": "code",
   "execution_count": null,
   "metadata": {},
   "outputs": [],
   "source": []
  },
  {
   "cell_type": "markdown",
   "metadata": {},
   "source": [
    "# 머신러닝\n",
    "\n",
    "## 지도학습, 비지도학습\n",
    "\n",
    "   1. 지도학습(supevised learning) : label\n",
    "      - k-NN\n",
    "      - linear regression\n",
    "      - logistic regression\n",
    "      - support vector machine\n",
    "      - Decision tree, Random Forest\n",
    "      - Neural network\n",
    "\n",
    "   2. 비지도학습 (unsupervised learning) : No label\n",
    "      - Visualization, dimensionality reduction \n",
    "      - clustering \n",
    "      - Association rule learning\n",
    "        \n",
    "\n",
    "   3. 준지도학습 (semisupervised learning) : deep belief \n",
    "\n",
    "   4. 강화학습 : reward, penalty 기반 학슴 큰보상을 얻기 위해 Policy를 극대화 하는 방향성으로 학습\n",
    "\n",
    "## 배치 학습 온라인학습\n",
    "   1. 배치학습\n",
    "   2. 온라인학습\n",
    "\n",
    "## 사례 기반 학습 모델 기반 학습\n",
    "   1. 사례기반 학습\n",
    "      * 유사도 측정 기반 데이터 분류\n",
    "\n",
    "   2. 모델기반 학습\n",
    "      * 샘플 데이터 기반 모델 생성 -> 모델 학습\n",
    "      * 모델을 평가히기 위한 평가함수\n",
    "         utility function,  cost fuction 기반 최적 model parameter 산출 (Training)\n",
    "   3. Learning process\n",
    "      * step 1 : Data analysis\n",
    "      * step 2 : Model selection\n",
    "      * step 3 : Training\n",
    "      * step 4 : prediction\n"
   ]
  },
  {
   "cell_type": "markdown",
   "metadata": {},
   "source": []
  },
  {
   "cell_type": "markdown",
   "metadata": {},
   "source": [
    "## Classification\n",
    "## 3.1 Minist\n"
   ]
  },
  {
   "cell_type": "code",
   "execution_count": 12,
   "metadata": {},
   "outputs": [
    {
     "data": {
      "text/plain": [
       "(70000, 784)"
      ]
     },
     "execution_count": 12,
     "metadata": {},
     "output_type": "execute_result"
    }
   ],
   "source": [
    "from sklearn.datasets import fetch_openml\n",
    "import numpy as np\n",
    "mnist = fetch_openml('mnist_784', version=1, as_frame=False)\n",
    "mnist.keys()\n",
    "\n",
    "x,y = mnist['data'],mnist['target']\n",
    "x.shape"
   ]
  },
  {
   "cell_type": "code",
   "execution_count": 13,
   "metadata": {},
   "outputs": [],
   "source": [
    "y.shape\n",
    "y=y.astype(np.int8) #"
   ]
  },
  {
   "cell_type": "code",
   "execution_count": 14,
   "metadata": {},
   "outputs": [
    {
     "data": {
      "image/png": "[encoded data removed]",
      "text/plain": [
       "<Figure size 432x288 with 1 Axes>"
      ]
     },
     "metadata": {
      "needs_background": "light"
     },
     "output_type": "display_data"
    }
   ],
   "source": [
    "some_digit = x[0]\n",
    "# reshape () 함수를 2차원 array로 변환\n",
    "some_digit_image = some_digit.reshape(28,28)\n",
    "\n",
    "import matplotlib\n",
    "import matplotlib.pyplot as plt\n",
    "plt.imshow(some_digit_image,cmap=matplotlib.cm.binary)\n",
    "plt.axis('off')\n",
    "plt.show()"
   ]
  },
  {
   "cell_type": "code",
   "execution_count": 15,
   "metadata": {},
   "outputs": [
    {
     "data": {
      "text/plain": [
       "5"
      ]
     },
     "execution_count": 15,
     "metadata": {},
     "output_type": "execute_result"
    }
   ],
   "source": [
    "y[0]"
   ]
  },
  {
   "cell_type": "code",
   "execution_count": 16,
   "metadata": {},
   "outputs": [
    {
     "name": "stdout",
     "output_type": "stream",
     "text": [
      "[ True False False ...  True False False]\n",
      "[[0. 0. 0. ... 0. 0. 0.]\n",
      " [0. 0. 0. ... 0. 0. 0.]\n",
      " [0. 0. 0. ... 0. 0. 0.]\n",
      " ...\n",
      " [0. 0. 0. ... 0. 0. 0.]\n",
      " [0. 0. 0. ... 0. 0. 0.]\n",
      " [0. 0. 0. ... 0. 0. 0.]]\n"
     ]
    }
   ],
   "source": [
    "X_train, X_test, y_train, y_test = x[:60000], x[60000:], y[:60000], y[60000:]# 트레이닝 세트 : 검증세트 구현 = 6:1\n",
    "\n",
    "y_train_5 = (y_train == 5) # 5는 True고, 다른 숫자는 모두 False\n",
    "y_test_5 = (y_test == 5)\n",
    "\n",
    "print (y_train_5)\n",
    "print (X_train)\n"
   ]
  },
  {
   "cell_type": "code",
   "execution_count": 18,
   "metadata": {},
   "outputs": [
    {
     "data": {
      "text/plain": [
       "array([ True])"
      ]
     },
     "execution_count": 18,
     "metadata": {},
     "output_type": "execute_result"
    }
   ],
   "source": [
    "from sklearn.linear_model import SGDClassifier\n",
    "sgd_clf = SGDClassifier(\n",
    "    max_iter=1000, # 최대 반복횟수를 지정, 원래 기본값이 1000\n",
    "    tol=1e-3, # tolerance값보다 모델이 향상되지 않으면 훈련을 멈추라는 종료 장치\n",
    "    random_state=42)\n",
    "# 위의 변수들이 다 default이기 때문에 \n",
    "# SGDClassifier(random_state=42)랑 똑같다.\n",
    "sgd_clf.fit(X_train, y_train_5)\n",
    "sgd_clf.predict([some_digit])"
   ]
  },
  {
   "cell_type": "markdown",
   "metadata": {},
   "source": [
    "## 3.3 성능 측정\n",
    "\n",
    "\n",
    "3.3.1 교차검증을 사용한 정확도 측정"
   ]
  },
  {
   "cell_type": "code",
   "execution_count": null,
   "metadata": {},
   "outputs": [],
   "source": []
  },
  {
   "cell_type": "markdown",
   "metadata": {},
   "source": [
    "## 3.4 다중 분류\n",
    "\n",
    "- SGD 분류기, 랜덤 포레스트 분류기, 나이브베이즈 분류기 의 경우 여러개의 클래스를 직접 처리 가능\n",
    "- 로지스틱 회긔 서포트 백터의 경우 이진분류만 가능 -> 이진 분류기를 여러개를 사용하여 다중클라스 분류가능\n",
    "\n",
    "\n",
    "- 이진분류기 10개 훈련 시켜 숫자이미지 분류 시스템 제작 방법론\n",
    "    * 각분류기에서 점수가 가장높은것을 선택 (One-versus the rest :OVR)\n",
    "      - 세트 1개를 전체와 구별\n",
    "      - e대부분 OVR 선호\n",
    "    \n",
    "    * 0 과 1 구별, 1과 2구별 각각의 조합마다 이진분류기 훈련 (One-versus one : OvO) 클래스가 N개 라면 ... 분류기 갯수 N x (N-1)/2 \n",
    "      - 2개의 샘플수만 분류가능한 데이터만 전체 훈련세트중 구별할수 있는 두클래스에 해당하는 샘플만 필요\n",
    "      - 작은훈련세트에서 만은 분류기를 훈련시키는쪽이 빠름 (SVM)\n",
    "\n",
    "- #### 사이킷런에서는 OvR, OvO를 자동적으로 선택 해주기 때문에 추가작업은 필요 하지 않음 ... 기본 개념만 가져갈것"
   ]
  },
  {
   "cell_type": "markdown",
   "metadata": {},
   "source": [
    "### 다중분류 예시"
   ]
  },
  {
   "cell_type": "code",
   "execution_count": 31,
   "metadata": {},
   "outputs": [
    {
     "data": {
      "text/plain": [
       "array([5], dtype=int8)"
      ]
     },
     "execution_count": 31,
     "metadata": {},
     "output_type": "execute_result"
    }
   ],
   "source": [
    "from sklearn.svm import SVC\n",
    "svm_clf=SVC()\n",
    "svm_clf.fit(X_train,y_train)\n",
    "svm_clf.predict([some_digit])"
   ]
  },
  {
   "cell_type": "markdown",
   "metadata": {},
   "source": []
  },
  {
   "cell_type": "code",
   "execution_count": 28,
   "metadata": {},
   "outputs": [
    {
     "data": {
      "text/plain": [
       "5"
      ]
     },
     "execution_count": 28,
     "metadata": {},
     "output_type": "execute_result"
    }
   ],
   "source": [
    "some_digit_scores=svm_clf.decision_function([some_digit])\n",
    "some_digit_scores\n",
    "\n",
    "np.argmax(some_digit_scores)\n",
    "svm_clf.classes_\n",
    "svm_clf.classes_[5]"
   ]
  },
  {
   "cell_type": "markdown",
   "metadata": {},
   "source": [
    "#### 사이킷런에서 OvO, OvR 강제설정 하고싶을때 ... OneVsOneClassifier 나 OneVsRestClassifier를 통해 데이터 운용이 가능"
   ]
  },
  {
   "cell_type": "code",
   "execution_count": null,
   "metadata": {},
   "outputs": [],
   "source": [
    "#from sklearn.multiclass import OneVsRestClassifier\n",
    "#ovr_clf = OneVsRestClassifier(SVC())\n",
    "#ovr_clf.fit(X_train,y_train)\n",
    "#ovr_clf.predict([some_digit])"
   ]
  },
  {
   "cell_type": "markdown",
   "metadata": {},
   "source": []
  },
  {
   "cell_type": "markdown",
   "metadata": {},
   "source": []
  }
 ],
 "metadata": {
  "kernelspec": {
   "display_name": "Python 3.9.13 64-bit (windows store)",
   "language": "python",
   "name": "python3"
  },
  "language_info": {
   "codemirror_mode": {
    "name": "ipython",
    "version": 3
   },
   "file_extension": ".py",
   "mimetype": "text/x-python",
   "name": "python",
   "nbconvert_exporter": "python",
   "pygments_lexer": "ipython3",
   "version": "3.9.13"
  },
  "orig_nbformat": 4,
  "vscode": {
   "interpreter": {
    "hash": "aa3dfe628db656bf29c226bb48456e181648c488ace1e8ab5f0f6bf83ef26c17"
   }
  }
 },
 "nbformat": 4,
 "nbformat_minor": 2
}
